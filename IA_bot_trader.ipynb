{
  "nbformat": 4,
  "nbformat_minor": 0,
  "metadata": {
    "colab": {
      "name": "IA-bot-trader.ipynb",
      "provenance": [],
      "collapsed_sections": [],
      "authorship_tag": "ABX9TyM5TL2sJO/1xD3Z4YQ9Hrpb",
      "include_colab_link": true
    },
    "kernelspec": {
      "name": "python3",
      "display_name": "Python 3"
    },
    "language_info": {
      "name": "python"
    }
  },
  "cells": [
    {
      "cell_type": "markdown",
      "metadata": {
        "id": "view-in-github",
        "colab_type": "text"
      },
      "source": [
        "<a href=\"https://colab.research.google.com/github/dijkstra001/ia-bot-trader/blob/main/IA_bot_trader.ipynb\" target=\"_parent\"><img src=\"https://colab.research.google.com/assets/colab-badge.svg\" alt=\"Open In Colab\"/></a>"
      ]
    },
    {
      "cell_type": "markdown",
      "metadata": {
        "id": "yRjBXpXH9fr5"
      },
      "source": [
        "# **IA Bot Trader**\n",
        "\n",
        "Esse projeto tem como objetivo desenvolver uma IA para realizar recomendações de compra e venda de criptomoedas.\n",
        "\n",
        "Os dados utilizados são da Exchange Bitmex e a API utilizada está disponível no link: https://www.bitmex.com/app/apiOverview\n",
        "\n",
        "***Obs: Ao utilizar API para requisição dos dados, cuidado para não exceder o número de requisições.***"
      ]
    },
    {
      "cell_type": "code",
      "metadata": {
        "id": "NDsSQnOj_CJK"
      },
      "source": [
        "!pip install -q ccxt"
      ],
      "execution_count": 1,
      "outputs": []
    },
    {
      "cell_type": "code",
      "metadata": {
        "id": "A4kDtTLC_PdT"
      },
      "source": [
        "!pip install -q bayesian-optimization==1.2"
      ],
      "execution_count": 2,
      "outputs": []
    },
    {
      "cell_type": "code",
      "metadata": {
        "id": "sLD7Zaa29blJ"
      },
      "source": [
        "import csv\n",
        "import ccxt\n",
        "import time\n",
        "import random\n",
        "import types\n",
        "import pkg_resources\n",
        "import numpy as np\n",
        "import pandas as pd\n",
        "import matplotlib.pyplot as plt\n",
        "import seaborn as sns\n",
        "from datetime import datetime\n",
        "from pprint import pprint\n",
        "from bayes_opt import BayesianOptimization\n",
        "from google.colab import drive"
      ],
      "execution_count": 3,
      "outputs": []
    },
    {
      "cell_type": "code",
      "metadata": {
        "colab": {
          "base_uri": "https://localhost:8080/"
        },
        "id": "SaP42EuSEIoO",
        "outputId": "ec5081be-cede-4217-a47c-86e16a95bc03"
      },
      "source": [
        "from google.colab import drive\n",
        "drive.mount('/content/drive')"
      ],
      "execution_count": 4,
      "outputs": [
        {
          "output_type": "stream",
          "text": [
            "Drive already mounted at /content/drive; to attempt to forcibly remount, call drive.mount(\"/content/drive\", force_remount=True).\n"
          ],
          "name": "stdout"
        }
      ]
    },
    {
      "cell_type": "code",
      "metadata": {
        "id": "_mzfv6YN_dcI"
      },
      "source": [
        "def generate_csv(archive, data):\n",
        "  with open(archive, mode = 'w') as archive_csv:\n",
        "    archive_csv.write(\"Date,Open,High,Low,Close,Adj Close,Volume\\n\")\n",
        "\n",
        "    csv_writer = csv.writer(archive_csv, delimiter = ',', quotechar = '\"', quoting = csv.QUOTE_MINIMAL)\n",
        "    csv_writer.writerows(data)"
      ],
      "execution_count": 5,
      "outputs": []
    },
    {
      "cell_type": "code",
      "metadata": {
        "id": "XwGQDMcwDZks"
      },
      "source": [
        "def exchange_connection(exchange, max_retries, symbol, timeframe, since, limit):\n",
        "  num_retries = 0\n",
        "\n",
        "  try:\n",
        "    num_retries += 1\n",
        "    ohlcv = exchange.fetch_ohlcv(symbol, timeframe, since)\n",
        "    return ohlcv\n",
        "\n",
        "  except Exception:\n",
        "      if num_retries > max_retries:\n",
        "        raise"
      ],
      "execution_count": 6,
      "outputs": []
    },
    {
      "cell_type": "code",
      "metadata": {
        "id": "AEZ3EqQqsRPQ"
      },
      "source": [
        "def extract_data(exchange, max_retries, symbol, timeframe, since, limit):\n",
        "  earliest_timestamp = exchange.milliseconds()\n",
        "\n",
        "  timeframe_duration_in_sec = exchange.parse_timeframe(timeframe)\n",
        "  timeframe_duration_in_ms = timeframe_duration_in_sec * 1000\n",
        "  timedelta = limit * timeframe_duration_in_ms\n",
        "\n",
        "  all_ohlcv = []\n",
        "\n",
        "  while True:\n",
        "    fetch_since = earliest_timestamp - timedelta\n",
        "    ohlcv = exchange_connection(exchange, max_retries, symbol, timeframe, fetch_since, limit)\n",
        "\n",
        "    if ohlcv[0][0] >= earliest_timestamp:\n",
        "      break\n",
        "    earliest_timestamp = ohlcv[0][0]\n",
        "    all_ohlcv = ohlcv + all_ohlcv\n",
        "    print(f'{len(all_ohlcv)} registros extraídos de {exchange.iso8601(all_ohlcv[0][0])} a {exchange.iso8601(all_ohlcv[-1][0])}')\n",
        "\n",
        "    if fetch_since < since:\n",
        "      break\n",
        "  \n",
        "  return all_ohlcv"
      ],
      "execution_count": 7,
      "outputs": []
    },
    {
      "cell_type": "code",
      "metadata": {
        "id": "kKToyyQB7TLe"
      },
      "source": [
        "def extract_to_csv(filename, exchange_id, max_retries, symbol, timeframe, since, limit):\n",
        "    exchange = getattr(ccxt, exchange_id)({'enableRateLimit': True,})\n",
        "    \n",
        "    if isinstance(since, str):\n",
        "        since = exchange.parse8601(since)\n",
        "    exchange.load_markets()\n",
        "    \n",
        "    ohlcv = extract_data(exchange, max_retries, symbol, timeframe, since, limit)\n",
        "    key = 0\n",
        "    \n",
        "    for item in ohlcv:\n",
        "        epoch = int(item[0]) / 1000\n",
        "        ohlcv[key][0] = datetime.utcfromtimestamp(epoch).strftime('%Y-%m-%d')\n",
        "        ohlcv[key][5] = int(item[5])\n",
        "        ohlcv[key].append(ohlcv[key][5])\n",
        "        ohlcv[key][5] = ohlcv[key][4]\n",
        "        key += 1\n",
        "    ohlen = len(ohlcv)\n",
        "    pprint(\"Número de Registros: \" + str(ohlen))\n",
        "    \n",
        "    \"\"\"if ohlen > 399:\n",
        "        ohrem = ohlen - 399\n",
        "        pprint(\"Removendo: \" + str(ohrem))\n",
        "        ohlcv = ohlcv[ohrem:]\"\"\" # Se não tiver recursos suficientes (ram e memória) descomente esse código\n",
        "    \n",
        "    generate_csv(filename, ohlcv)\n",
        "    print('Salvos', len(ohlcv), 'registros no arquivo', filename)"
      ],
      "execution_count": 8,
      "outputs": []
    },
    {
      "cell_type": "code",
      "metadata": {
        "id": "6YoyqLcp9iuq"
      },
      "source": [
        "# Exchange: https://www.bitmex.com/app/apiOverview\n",
        "exchange = \"bitmex\"\n",
        "symbol = \"BTC/USD\"\n",
        "timeframe = \"1d\"\n",
        "since = \"2018-01-01T00:00:00Z\"\n",
        "max_retries = 3\n",
        "outfile = \"/content/drive/My Drive/ia-bot-trader/dataset.csv\" # Aponte para o diretório onde você deseja salvar os dados"
      ],
      "execution_count": 9,
      "outputs": []
    },
    {
      "cell_type": "code",
      "metadata": {
        "id": "IvkdwP_V-QAx",
        "colab": {
          "base_uri": "https://localhost:8080/"
        },
        "outputId": "3a791dbf-7065-445b-e67f-4fa1a03e3c30"
      },
      "source": [
        "extract_to_csv(outfile, exchange, max_retries, symbol, timeframe, since, 100)"
      ],
      "execution_count": 10,
      "outputs": [
        {
          "output_type": "stream",
          "text": [
            "100 registros extraídos de 2021-02-04T00:00:00.000Z a 2021-05-14T00:00:00.000Z\n",
            "200 registros extraídos de 2020-10-27T00:00:00.000Z a 2021-05-14T00:00:00.000Z\n",
            "300 registros extraídos de 2020-07-19T00:00:00.000Z a 2021-05-14T00:00:00.000Z\n",
            "400 registros extraídos de 2020-04-10T00:00:00.000Z a 2021-05-14T00:00:00.000Z\n",
            "500 registros extraídos de 2020-01-01T00:00:00.000Z a 2021-05-14T00:00:00.000Z\n",
            "600 registros extraídos de 2019-09-23T00:00:00.000Z a 2021-05-14T00:00:00.000Z\n",
            "700 registros extraídos de 2019-06-15T00:00:00.000Z a 2021-05-14T00:00:00.000Z\n",
            "800 registros extraídos de 2019-03-07T00:00:00.000Z a 2021-05-14T00:00:00.000Z\n",
            "900 registros extraídos de 2018-11-27T00:00:00.000Z a 2021-05-14T00:00:00.000Z\n",
            "1000 registros extraídos de 2018-08-19T00:00:00.000Z a 2021-05-14T00:00:00.000Z\n",
            "1100 registros extraídos de 2018-05-11T00:00:00.000Z a 2021-05-14T00:00:00.000Z\n",
            "1200 registros extraídos de 2018-01-31T00:00:00.000Z a 2021-05-14T00:00:00.000Z\n",
            "1300 registros extraídos de 2017-10-23T00:00:00.000Z a 2021-05-14T00:00:00.000Z\n",
            "'Número de Registros: 1300'\n",
            "Salvos 1300 registros no arquivo /content/drive/My Drive/ia-bot-trader/dataset.csv\n"
          ],
          "name": "stdout"
        }
      ]
    },
    {
      "cell_type": "markdown",
      "metadata": {
        "id": "UYh_gMiCF4Z7"
      },
      "source": [
        "# **Análise Exploratória:**"
      ]
    },
    {
      "cell_type": "code",
      "metadata": {
        "colab": {
          "base_uri": "https://localhost:8080/",
          "height": 197
        },
        "id": "MS6KM5I3GBGY",
        "outputId": "772af79d-aa11-4b40-f6cb-0b4eabd95665"
      },
      "source": [
        "dataset = pd.read_csv(outfile)\n",
        "dataset.head()"
      ],
      "execution_count": 11,
      "outputs": [
        {
          "output_type": "execute_result",
          "data": {
            "text/html": [
              "<div>\n",
              "<style scoped>\n",
              "    .dataframe tbody tr th:only-of-type {\n",
              "        vertical-align: middle;\n",
              "    }\n",
              "\n",
              "    .dataframe tbody tr th {\n",
              "        vertical-align: top;\n",
              "    }\n",
              "\n",
              "    .dataframe thead th {\n",
              "        text-align: right;\n",
              "    }\n",
              "</style>\n",
              "<table border=\"1\" class=\"dataframe\">\n",
              "  <thead>\n",
              "    <tr style=\"text-align: right;\">\n",
              "      <th></th>\n",
              "      <th>Date</th>\n",
              "      <th>Open</th>\n",
              "      <th>High</th>\n",
              "      <th>Low</th>\n",
              "      <th>Close</th>\n",
              "      <th>Adj Close</th>\n",
              "      <th>Volume</th>\n",
              "    </tr>\n",
              "  </thead>\n",
              "  <tbody>\n",
              "    <tr>\n",
              "      <th>0</th>\n",
              "      <td>2017-10-23</td>\n",
              "      <td>5986.0</td>\n",
              "      <td>6095.2</td>\n",
              "      <td>5638.7</td>\n",
              "      <td>5853.9</td>\n",
              "      <td>5853.9</td>\n",
              "      <td>1013064819</td>\n",
              "    </tr>\n",
              "    <tr>\n",
              "      <th>1</th>\n",
              "      <td>2017-10-24</td>\n",
              "      <td>5853.9</td>\n",
              "      <td>5853.9</td>\n",
              "      <td>5454.0</td>\n",
              "      <td>5517.4</td>\n",
              "      <td>5517.4</td>\n",
              "      <td>950744064</td>\n",
              "    </tr>\n",
              "    <tr>\n",
              "      <th>2</th>\n",
              "      <td>2017-10-25</td>\n",
              "      <td>5517.4</td>\n",
              "      <td>5758.9</td>\n",
              "      <td>5366.0</td>\n",
              "      <td>5732.0</td>\n",
              "      <td>5732.0</td>\n",
              "      <td>710909859</td>\n",
              "    </tr>\n",
              "    <tr>\n",
              "      <th>3</th>\n",
              "      <td>2017-10-26</td>\n",
              "      <td>5732.0</td>\n",
              "      <td>6008.0</td>\n",
              "      <td>5669.6</td>\n",
              "      <td>5888.4</td>\n",
              "      <td>5888.4</td>\n",
              "      <td>773138211</td>\n",
              "    </tr>\n",
              "    <tr>\n",
              "      <th>4</th>\n",
              "      <td>2017-10-27</td>\n",
              "      <td>5888.4</td>\n",
              "      <td>6013.0</td>\n",
              "      <td>5678.0</td>\n",
              "      <td>5769.3</td>\n",
              "      <td>5769.3</td>\n",
              "      <td>632848491</td>\n",
              "    </tr>\n",
              "  </tbody>\n",
              "</table>\n",
              "</div>"
            ],
            "text/plain": [
              "         Date    Open    High     Low   Close  Adj Close      Volume\n",
              "0  2017-10-23  5986.0  6095.2  5638.7  5853.9     5853.9  1013064819\n",
              "1  2017-10-24  5853.9  5853.9  5454.0  5517.4     5517.4   950744064\n",
              "2  2017-10-25  5517.4  5758.9  5366.0  5732.0     5732.0   710909859\n",
              "3  2017-10-26  5732.0  6008.0  5669.6  5888.4     5888.4   773138211\n",
              "4  2017-10-27  5888.4  6013.0  5678.0  5769.3     5769.3   632848491"
            ]
          },
          "metadata": {
            "tags": []
          },
          "execution_count": 11
        }
      ]
    },
    {
      "cell_type": "code",
      "metadata": {
        "colab": {
          "base_uri": "https://localhost:8080/",
          "height": 287
        },
        "id": "NqkeSWQTGSU7",
        "outputId": "8d246de5-a313-4c7a-ef5a-f658c6dbc70b"
      },
      "source": [
        "dataset.describe()"
      ],
      "execution_count": 12,
      "outputs": [
        {
          "output_type": "execute_result",
          "data": {
            "text/html": [
              "<div>\n",
              "<style scoped>\n",
              "    .dataframe tbody tr th:only-of-type {\n",
              "        vertical-align: middle;\n",
              "    }\n",
              "\n",
              "    .dataframe tbody tr th {\n",
              "        vertical-align: top;\n",
              "    }\n",
              "\n",
              "    .dataframe thead th {\n",
              "        text-align: right;\n",
              "    }\n",
              "</style>\n",
              "<table border=\"1\" class=\"dataframe\">\n",
              "  <thead>\n",
              "    <tr style=\"text-align: right;\">\n",
              "      <th></th>\n",
              "      <th>Open</th>\n",
              "      <th>High</th>\n",
              "      <th>Low</th>\n",
              "      <th>Close</th>\n",
              "      <th>Adj Close</th>\n",
              "      <th>Volume</th>\n",
              "    </tr>\n",
              "  </thead>\n",
              "  <tbody>\n",
              "    <tr>\n",
              "      <th>count</th>\n",
              "      <td>1300.000000</td>\n",
              "      <td>1300.000000</td>\n",
              "      <td>1300.000000</td>\n",
              "      <td>1300.000000</td>\n",
              "      <td>1300.000000</td>\n",
              "      <td>1.300000e+03</td>\n",
              "    </tr>\n",
              "    <tr>\n",
              "      <th>mean</th>\n",
              "      <td>12907.312077</td>\n",
              "      <td>13322.246923</td>\n",
              "      <td>12449.785462</td>\n",
              "      <td>12941.044769</td>\n",
              "      <td>12941.044769</td>\n",
              "      <td>2.314642e+09</td>\n",
              "    </tr>\n",
              "    <tr>\n",
              "      <th>std</th>\n",
              "      <td>13065.850111</td>\n",
              "      <td>13506.975124</td>\n",
              "      <td>12557.535260</td>\n",
              "      <td>13104.518059</td>\n",
              "      <td>13104.518059</td>\n",
              "      <td>1.422983e+09</td>\n",
              "    </tr>\n",
              "    <tr>\n",
              "      <th>min</th>\n",
              "      <td>3183.000000</td>\n",
              "      <td>3226.000000</td>\n",
              "      <td>3121.000000</td>\n",
              "      <td>3183.000000</td>\n",
              "      <td>3183.000000</td>\n",
              "      <td>6.654364e+07</td>\n",
              "    </tr>\n",
              "    <tr>\n",
              "      <th>25%</th>\n",
              "      <td>6685.500000</td>\n",
              "      <td>6828.250000</td>\n",
              "      <td>6486.375000</td>\n",
              "      <td>6688.125000</td>\n",
              "      <td>6688.125000</td>\n",
              "      <td>1.313947e+09</td>\n",
              "    </tr>\n",
              "    <tr>\n",
              "      <th>50%</th>\n",
              "      <td>8812.000000</td>\n",
              "      <td>9030.000000</td>\n",
              "      <td>8551.250000</td>\n",
              "      <td>8817.250000</td>\n",
              "      <td>8817.250000</td>\n",
              "      <td>2.064845e+09</td>\n",
              "    </tr>\n",
              "    <tr>\n",
              "      <th>75%</th>\n",
              "      <td>11210.000000</td>\n",
              "      <td>11548.625000</td>\n",
              "      <td>10840.125000</td>\n",
              "      <td>11212.500000</td>\n",
              "      <td>11212.500000</td>\n",
              "      <td>2.912033e+09</td>\n",
              "    </tr>\n",
              "    <tr>\n",
              "      <th>max</th>\n",
              "      <td>63674.000000</td>\n",
              "      <td>65000.000000</td>\n",
              "      <td>62131.000000</td>\n",
              "      <td>63674.000000</td>\n",
              "      <td>63674.000000</td>\n",
              "      <td>1.362211e+10</td>\n",
              "    </tr>\n",
              "  </tbody>\n",
              "</table>\n",
              "</div>"
            ],
            "text/plain": [
              "               Open          High  ...     Adj Close        Volume\n",
              "count   1300.000000   1300.000000  ...   1300.000000  1.300000e+03\n",
              "mean   12907.312077  13322.246923  ...  12941.044769  2.314642e+09\n",
              "std    13065.850111  13506.975124  ...  13104.518059  1.422983e+09\n",
              "min     3183.000000   3226.000000  ...   3183.000000  6.654364e+07\n",
              "25%     6685.500000   6828.250000  ...   6688.125000  1.313947e+09\n",
              "50%     8812.000000   9030.000000  ...   8817.250000  2.064845e+09\n",
              "75%    11210.000000  11548.625000  ...  11212.500000  2.912033e+09\n",
              "max    63674.000000  65000.000000  ...  63674.000000  1.362211e+10\n",
              "\n",
              "[8 rows x 6 columns]"
            ]
          },
          "metadata": {
            "tags": []
          },
          "execution_count": 12
        }
      ]
    },
    {
      "cell_type": "code",
      "metadata": {
        "id": "4rcgZDW7NIe-"
      },
      "source": [
        "# Dados de fechamento:\n",
        "close = dataset.Close.values.tolist()\n",
        "\n",
        "# Parâmetros para versão base do modelo:\n",
        "window_size = 30\n",
        "skip = 5\n",
        "l = len(close) - 1"
      ],
      "execution_count": 13,
      "outputs": []
    },
    {
      "cell_type": "markdown",
      "metadata": {
        "id": "3dmXlsjuN_XM"
      },
      "source": [
        "## **Estratégia de Treinamento: Deep Evolution Strategy (OpenIA):**"
      ]
    },
    {
      "cell_type": "code",
      "metadata": {
        "id": "8w0fEa7i8nLf"
      },
      "source": [
        "class PoliticsTrader:\n",
        "  inputs = None\n",
        "\n",
        "  def __init__(self, weights, reward_function, population_size, sigma, learning_rate):\n",
        "        \n",
        "        self.weights = weights\n",
        "        self.reward_function = reward_function\n",
        "        self.population_size = population_size\n",
        "        self.sigma = sigma\n",
        "        self.learning_rate = learning_rate\n",
        "\n",
        "  def get_weights_population(self, weights, population):\n",
        "    \n",
        "        weights_population = []\n",
        "        \n",
        "        for index, i in enumerate(population):\n",
        "            jittered = self.sigma * i\n",
        "            weights_population.append(weights[index] + jittered)\n",
        "        \n",
        "        return weights_population\n",
        "\n",
        "  def get_weights(self):\n",
        "        return self.weights\n",
        "\n",
        "  def train(self, epoch = 100, print_every = 1):\n",
        "        \n",
        "        lasttime = time.time()\n",
        "        \n",
        "        for i in range(epoch):\n",
        "            \n",
        "            population = []\n",
        "            rewards = np.zeros(self.population_size)\n",
        "\n",
        "            for k in range(self.population_size):\n",
        "                x = []\n",
        "                for w in self.weights:\n",
        "                    x.append(np.random.randn(*w.shape))\n",
        "                population.append(x)\n",
        "            \n",
        "            for k in range(self.population_size):\n",
        "                weights_population = self.get_weights_population(self.weights, population[k])\n",
        "                rewards[k] = self.reward_function(weights_population)\n",
        "            rewards = (rewards - np.mean(rewards)) / np.std(rewards)\n",
        "            \n",
        "            for index, w in enumerate(self.weights):\n",
        "                A = np.array([p[index] for p in population])\n",
        "                self.weights[index] = (w + self.learning_rate / (self.population_size * self.sigma) * np.dot(A.T, rewards).T)\n",
        "            \n",
        "            if (i + 1) % print_every == 0:\n",
        "                print('Iteração %d. Recompensa: %f' % (i + 1, self.reward_function(self.weights)))\n",
        "        \n",
        "        print('Tempo Total de Treinamento:', time.time() - lasttime, 'segundos')\n"
      ],
      "execution_count": 14,
      "outputs": []
    },
    {
      "cell_type": "markdown",
      "metadata": {
        "id": "V9uKQhYLN4Kg"
      },
      "source": [
        "## **Arquitetura do Modelo de Rede Neural:**"
      ]
    },
    {
      "cell_type": "code",
      "metadata": {
        "id": "7XiUEb2xN3GC"
      },
      "source": [
        "class Model:\n",
        "    \n",
        "    def __init__(self, input_size, layer_size, output_size):\n",
        "        \n",
        "        self.weights = [np.random.randn(input_size, layer_size),\n",
        "                        np.random.randn(layer_size, output_size),\n",
        "                        np.random.randn(layer_size, 1),\n",
        "                        np.random.randn(1, layer_size),]\n",
        "\n",
        "    def predict(self, inputs):\n",
        "        feed = np.dot(inputs, self.weights[0]) + self.weights[-1]\n",
        "        decision = np.dot(feed, self.weights[1])\n",
        "        buy = np.dot(feed, self.weights[2])\n",
        "        return decision, buy\n",
        "\n",
        "    def get_weights(self):\n",
        "        return self.weights\n",
        "\n",
        "    def set_weights(self, weights):\n",
        "        self.weights = weights"
      ],
      "execution_count": 15,
      "outputs": []
    },
    {
      "cell_type": "markdown",
      "metadata": {
        "id": "fRt9F796ObxY"
      },
      "source": [
        "## **Configuração do BOT:**"
      ]
    },
    {
      "cell_type": "code",
      "metadata": {
        "id": "hGzWtv7kOfLP"
      },
      "source": [
        "def get_state(data, t, n):\n",
        "    d = t - n + 1\n",
        "    block = data[d : t + 1] if d >= 0 else -d * [data[0]] + data[0 : t + 1]\n",
        "    states = []\n",
        "    for i in range(n - 1):\n",
        "        states.append(block[i + 1] - block[i])\n",
        "    return np.array([states])"
      ],
      "execution_count": 16,
      "outputs": []
    },
    {
      "cell_type": "code",
      "metadata": {
        "id": "YYppXg2gO3mp"
      },
      "source": [
        "class Trader:\n",
        "\n",
        "    def __init__(self, population_size, sigma, learning_rate, model, money, max_buy, max_sell, skip, window_size,):\n",
        "        \n",
        "        self.window_size = window_size\n",
        "        self.skip = skip\n",
        "        self.POPULATION_SIZE = population_size\n",
        "        self.SIGMA = sigma\n",
        "        self.LEARNING_RATE = learning_rate\n",
        "        self.model = model\n",
        "        self.initial_money = money\n",
        "        self.max_buy = max_buy\n",
        "        self.max_sell = max_sell\n",
        "        self.es = PoliticsTrader(self.model.get_weights(),\n",
        "                                 self.get_reward,\n",
        "                                 self.POPULATION_SIZE,\n",
        "                                 self.SIGMA,\n",
        "                                 self.LEARNING_RATE,)\n",
        "\n",
        "    def execute(self, sequence):\n",
        "        decision, buy = self.model.predict(np.array(sequence))\n",
        "        return np.argmax(decision[0]), int(buy[0])\n",
        "\n",
        "    def get_reward(self, weights):\n",
        "        \n",
        "        initial_money = self.initial_money\n",
        "        starting_money = initial_money\n",
        "        \n",
        "        self.model.weights = weights\n",
        "\n",
        "        state = get_state(close, 0, self.window_size + 1)\n",
        "\n",
        "        inventory = []\n",
        "        quantity = 0\n",
        "        \n",
        "        for t in range(0, l, self.skip):\n",
        "            \n",
        "            action, buy = self.execute(state)\n",
        "            \n",
        "            next_state = get_state(close, t + 1, self.window_size + 1)\n",
        "          \n",
        "            if action == 1 and initial_money >= close[t]:\n",
        "                if buy < 0:\n",
        "                    buy = 1\n",
        "                if buy > self.max_buy:\n",
        "                    buy_units = self.max_buy\n",
        "                else:\n",
        "                    buy_units = buy\n",
        "                    \n",
        "                total_buy = buy_units * close[t]\n",
        "                initial_money -= total_buy\n",
        "                inventory.append(total_buy)\n",
        "                quantity += buy_units\n",
        "            \n",
        "            elif action == 2 and len(inventory) > 0:\n",
        "                if quantity > self.max_sell:\n",
        "                    sell_units = self.max_sell\n",
        "                else:\n",
        "                    sell_units = quantity\n",
        "                    \n",
        "                quantity -= sell_units\n",
        "                total_sell = sell_units * close[t]\n",
        "                initial_money += total_sell\n",
        "\n",
        "            state = next_state\n",
        "        return ((initial_money - starting_money) / starting_money) * 100\n",
        "\n",
        "    def fit(self, iterations, checkpoint):\n",
        "        self.es.treinamento(iterations, print_every = checkpoint)\n",
        "\n",
        "    def make_investiment(self):\n",
        "        \n",
        "        initial_money = self.initial_money\n",
        "        starting_money = initial_money\n",
        "        \n",
        "        state = get_state(close, 0, self.window_size + 1)\n",
        "              \n",
        "        states_sell = []\n",
        "        states_buy = []\n",
        "        inventory = []\n",
        "        quantity = 0\n",
        "        \n",
        "        for t in range(0, l, self.skip):\n",
        "            \n",
        "            action, buy = self.execute(state)\n",
        "            next_state = get_state(close, t + 1, self.window_size + 1)\n",
        "            \n",
        "            if action == 1 and initial_money >= close[t]:\n",
        "                if buy < 0:\n",
        "                    buy = 1\n",
        "                if buy > self.max_buy:\n",
        "                    buy_units = self.max_buy\n",
        "                else:\n",
        "                    buy_units = buy\n",
        "                \n",
        "                total_buy = buy_units * close[t]\n",
        "                initial_money -= total_buy\n",
        "                inventory.append(total_buy)\n",
        "                quantity += buy_units\n",
        "                states_buy.append(t)\n",
        "                \n",
        "                print('Dia %d: comprar %d unidades ao preço de %f, saldo total %f' % (t, buy_units, total_buy, initial_money))\n",
        "            \n",
        "            elif action == 2 and len(inventory) > 0:\n",
        "                bought_price = inventory.pop(0)\n",
        "                if quantity > self.max_sell:\n",
        "                    sell_units = self.max_sell\n",
        "                else:\n",
        "                    sell_units = quantity\n",
        "                if sell_units < 1:\n",
        "                    continue\n",
        "                    \n",
        "                quantity -= sell_units\n",
        "                total_sell = sell_units * close[t]\n",
        "                initial_money += total_sell\n",
        "                states_sell.append(t)\n",
        "                \n",
        "                try:\n",
        "                    invest = ((total_sell - bought_price) / bought_price) * 100\n",
        "                except:\n",
        "                    invest = 0\n",
        "                \n",
        "                print('Dia %d, vender %d unidades ao preço de %f, investimento %f %%, saldo total %f,' % (t, sell_units, total_sell, invest, initial_money))\n",
        "            \n",
        "            # Próximo estado\n",
        "            state = next_state\n",
        "\n",
        "        # Investimento\n",
        "        invest = ((initial_money - starting_money) / starting_money) * 100\n",
        "        \n",
        "        print('\\nGanho Total %f, Valor Total Investido %f' % (initial_money - starting_money, invest))\n",
        "        \n",
        "        plt.figure(figsize = (20, 10))\n",
        "        plt.plot(close, label = 'Valor Real de Fechamento', c = 'g')\n",
        "        plt.plot(close, 'X', label = 'Previsão de Compra', markevery = states_buy, c = 'b')\n",
        "        plt.plot(close, 'o', label = 'Previsão de Venda', markevery = states_sell, c = 'r')\n",
        "        plt.legend()\n",
        "        plt.show()"
      ],
      "execution_count": 17,
      "outputs": []
    },
    {
      "cell_type": "markdown",
      "metadata": {
        "id": "mRUNvFAGQLcz"
      },
      "source": [
        "## **Encontrando o melhor Trader:**"
      ]
    },
    {
      "cell_type": "code",
      "metadata": {
        "id": "uYV5HzDEQLLA"
      },
      "source": [
        "def best_trader(window_size, skip, population_size, sigma, learning_rate, size_network):\n",
        "    \n",
        "    model = Model(window_size, size_network, 3)\n",
        "    trader = Trader(population_size, sigma, learning_rate, model, 10000, 5, 5, skip, window_size,)\n",
        "    \n",
        "    try:\n",
        "        trader.fit(100, 1000)\n",
        "        return trader.es.reward_function(trader.es.weights)\n",
        "    except:\n",
        "        return 0\n",
        "\n",
        "def find_best_trader(window_size, skip, population_size, sigma, learning_rate, size_network):\n",
        "    \n",
        "    global accbest\n",
        "    \n",
        "    param = {'window_size': int(np.around(window_size)),\n",
        "             'skip': int(np.around(skip)),\n",
        "             'population_size': int(np.around(population_size)),\n",
        "             'sigma': max(min(sigma, 1), 0.0001),\n",
        "             'learning_rate': max(min(learning_rate, 0.5), 0.000001),\n",
        "             'size_network': int(np.around(size_network)),}\n",
        "    \n",
        "    print('\\nBuscando Parâmetros %s' % (param))\n",
        "    \n",
        "    investment = best_trader(**param)\n",
        "    print('Após 100 iterações o investimento foi de %f' % (investment))\n",
        "    return investment"
      ],
      "execution_count": 18,
      "outputs": []
    },
    {
      "cell_type": "markdown",
      "metadata": {
        "id": "jQMt7Te8QseT"
      },
      "source": [
        "## **Otimização Bayesiana Para os Hiperparâmetros do Modelo:**"
      ]
    }
  ]
}