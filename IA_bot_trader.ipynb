{
  "nbformat": 4,
  "nbformat_minor": 0,
  "metadata": {
    "colab": {
      "name": "IA-bot-trader.ipynb",
      "provenance": [],
      "collapsed_sections": [],
      "authorship_tag": "ABX9TyNCVFXTX7SZ8Iy7Tl9WUx66",
      "include_colab_link": true
    },
    "kernelspec": {
      "name": "python3",
      "display_name": "Python 3"
    },
    "language_info": {
      "name": "python"
    }
  },
  "cells": [
    {
      "cell_type": "markdown",
      "metadata": {
        "id": "view-in-github",
        "colab_type": "text"
      },
      "source": [
        "<a href=\"https://colab.research.google.com/github/dijkstra001/ia-bot-trader/blob/main/IA_bot_trader.ipynb\" target=\"_parent\"><img src=\"https://colab.research.google.com/assets/colab-badge.svg\" alt=\"Open In Colab\"/></a>"
      ]
    },
    {
      "cell_type": "markdown",
      "metadata": {
        "id": "yRjBXpXH9fr5"
      },
      "source": [
        "# **IA Bot Trader**\n",
        "\n",
        "Esse projeto tem como objetivo desenvolver uma IA para realizar recomendações de compra e venda de criptomoedas.\n",
        "\n",
        "Os dados utilizados são da Exchange Bitmex e a API utilizada está disponível no link: https://www.bitmex.com/app/apiOverview\n",
        "\n",
        "***Obs: Ao utilizar API para requisição dos dados, cuidado para não exceder o número de requisições.***"
      ]
    },
    {
      "cell_type": "code",
      "metadata": {
        "id": "NDsSQnOj_CJK"
      },
      "source": [
        "!pip install -q ccxt"
      ],
      "execution_count": null,
      "outputs": []
    },
    {
      "cell_type": "code",
      "metadata": {
        "id": "A4kDtTLC_PdT"
      },
      "source": [
        "!pip install -q bayesian-optimization==1.2"
      ],
      "execution_count": null,
      "outputs": []
    },
    {
      "cell_type": "code",
      "metadata": {
        "id": "sLD7Zaa29blJ"
      },
      "source": [
        "import csv\n",
        "import ccxt\n",
        "import time\n",
        "import random\n",
        "import types\n",
        "import pkg_resources\n",
        "import numpy as np\n",
        "import pandas as pd\n",
        "import matplotlib.pyplot as plt\n",
        "import seaborn as sns\n",
        "from datetime import datetime\n",
        "from pprint import pprint\n",
        "from bayes_opt import BayesianOptimization\n",
        "from google.colab import drive"
      ],
      "execution_count": 6,
      "outputs": []
    },
    {
      "cell_type": "code",
      "metadata": {
        "colab": {
          "base_uri": "https://localhost:8080/"
        },
        "id": "SaP42EuSEIoO",
        "outputId": "ef9f4a60-9d07-4aec-b1dc-0514f074b311"
      },
      "source": [
        "from google.colab import drive\n",
        "drive.mount('/content/drive')"
      ],
      "execution_count": 8,
      "outputs": [
        {
          "output_type": "stream",
          "text": [
            "Mounted at /content/drive\n"
          ],
          "name": "stdout"
        }
      ]
    },
    {
      "cell_type": "code",
      "metadata": {
        "id": "_mzfv6YN_dcI"
      },
      "source": [
        "def generate_csv(archive, data):\n",
        "  with open(archive, mode = 'w') as archive_csv:\n",
        "    archive_csv.write(\"Date,Open,High,Low,Close,Adj Close,Volume\\n\")\n",
        "\n",
        "    csv_writer = csv.writer(archive_csv, delimiter = ',', quotechar = '\"', quoting = csv.QUOTE_MINIMAL)\n",
        "    csv_writer.writerows(data)"
      ],
      "execution_count": 9,
      "outputs": []
    },
    {
      "cell_type": "code",
      "metadata": {
        "id": "XwGQDMcwDZks"
      },
      "source": [
        "def exchange_connection(exchange, max_retries, symbol, timeframe, since, limit):\n",
        "  num_retries = 0\n",
        "\n",
        "  try:\n",
        "    num_retries += 1\n",
        "    ohlcv = exchange.fetch_ohlcv(symbol, timeframe, since)\n",
        "    return ohlcv\n",
        "\n",
        "  except Exception:\n",
        "      if num_retries > max_retries:\n",
        "        raise"
      ],
      "execution_count": 10,
      "outputs": []
    },
    {
      "cell_type": "code",
      "metadata": {
        "id": "AEZ3EqQqsRPQ"
      },
      "source": [
        "def extract_data(exchange, max_retries, symbol, timeframe, since, limit):\n",
        "  earliest_timestamp = exchange.milliseconds()\n",
        "\n",
        "  timeframe_duration_in_sec = exchange.parse_timeframe(timeframe)\n",
        "  timeframe_duration_in_ms = timeframe_duration_in_sec * 1000\n",
        "  timedelta = limit * timeframe_duration_in_ms\n",
        "\n",
        "  all_ohlcv = []\n",
        "\n",
        "  while True:\n",
        "    fetch_since = earliest_timestamp - timedelta\n",
        "    ohlcv = exchange_connection(exchange, max_retries, symbol, timeframe, fetch_since, limit)\n",
        "\n",
        "    if ohlcv[0][0] >= earliest_timestamp:\n",
        "      break\n",
        "    earliest_timestamp = ohlcv[0][0]\n",
        "    all_ohlcv = ohlcv + all_ohlcv\n",
        "    print(f'{len(all_ohlcv)} registros extraídos de {exchange.iso8601(all_ohlcv[0][0])} a {exchange.iso8601(all_ohlcv[-1][0])}')\n",
        "\n",
        "    if fetch_since < since:\n",
        "      break\n",
        "  \n",
        "  return all_ohlcv"
      ],
      "execution_count": 11,
      "outputs": []
    },
    {
      "cell_type": "code",
      "metadata": {
        "id": "kKToyyQB7TLe"
      },
      "source": [
        "def extract_to_csv(filename, exchange_id, max_retries, symbol, timeframe, since, limit):\n",
        "    exchange = getattr(ccxt, exchange_id)({'enableRateLimit': True,})\n",
        "    \n",
        "    if isinstance(since, str):\n",
        "        since = exchange.parse8601(since)\n",
        "    exchange.load_markets()\n",
        "    \n",
        "    ohlcv = extract_data(exchange, max_retries, symbol, timeframe, since, limit)\n",
        "    key = 0\n",
        "    \n",
        "    for item in ohlcv:\n",
        "        epoch = int(item[0]) / 1000\n",
        "        ohlcv[key][0] = datetime.utcfromtimestamp(epoch).strftime('%Y-%m-%d')\n",
        "        ohlcv[key][5] = int(item[5])\n",
        "        ohlcv[key].append(ohlcv[key][5])\n",
        "        ohlcv[key][5] = ohlcv[key][4]\n",
        "        key += 1\n",
        "    ohlen = len(ohlcv)\n",
        "    pprint(\"Número de Registros: \" + str(ohlen))\n",
        "    \n",
        "    \"\"\"if ohlen > 399:\n",
        "        ohrem = ohlen - 399\n",
        "        pprint(\"Removendo: \" + str(ohrem))\n",
        "        ohlcv = ohlcv[ohrem:]\"\"\" # Se não tiver recursos suficientes (ram e memória) descomente esse código\n",
        "    \n",
        "    generate_csv(filename, ohlcv)\n",
        "    print('Salvos', len(ohlcv), 'registros no arquivo', filename)"
      ],
      "execution_count": 12,
      "outputs": []
    },
    {
      "cell_type": "code",
      "metadata": {
        "id": "6YoyqLcp9iuq"
      },
      "source": [
        "# Exchange: https://www.bitmex.com/app/apiOverview\n",
        "exchange = \"bitmex\"\n",
        "symbol = \"BTC/USD\"\n",
        "timeframe = \"1d\"\n",
        "since = \"2018-01-01T00:00:00Z\"\n",
        "max_retries = 3\n",
        "outfile = \"/content/drive/My Drive/ia-bot-trader/dataset.csv\" # Aponte para o diretório onde você deseja salvar os dados"
      ],
      "execution_count": 17,
      "outputs": []
    },
    {
      "cell_type": "code",
      "metadata": {
        "id": "IvkdwP_V-QAx",
        "colab": {
          "base_uri": "https://localhost:8080/"
        },
        "outputId": "75591427-2a8a-4cbe-f659-9a9f6b5db126"
      },
      "source": [
        "extract_to_csv(outfile, exchange, max_retries, symbol, timeframe, since, 100)"
      ],
      "execution_count": 18,
      "outputs": [
        {
          "output_type": "stream",
          "text": [
            "100 registros extraídos de 2021-02-01T00:00:00.000Z a 2021-05-11T00:00:00.000Z\n",
            "200 registros extraídos de 2020-10-24T00:00:00.000Z a 2021-05-11T00:00:00.000Z\n",
            "300 registros extraídos de 2020-07-16T00:00:00.000Z a 2021-05-11T00:00:00.000Z\n",
            "400 registros extraídos de 2020-04-07T00:00:00.000Z a 2021-05-11T00:00:00.000Z\n",
            "500 registros extraídos de 2019-12-29T00:00:00.000Z a 2021-05-11T00:00:00.000Z\n",
            "600 registros extraídos de 2019-09-20T00:00:00.000Z a 2021-05-11T00:00:00.000Z\n",
            "700 registros extraídos de 2019-06-12T00:00:00.000Z a 2021-05-11T00:00:00.000Z\n",
            "800 registros extraídos de 2019-03-04T00:00:00.000Z a 2021-05-11T00:00:00.000Z\n",
            "900 registros extraídos de 2018-11-24T00:00:00.000Z a 2021-05-11T00:00:00.000Z\n",
            "1000 registros extraídos de 2018-08-16T00:00:00.000Z a 2021-05-11T00:00:00.000Z\n",
            "1100 registros extraídos de 2018-05-08T00:00:00.000Z a 2021-05-11T00:00:00.000Z\n",
            "1200 registros extraídos de 2018-01-28T00:00:00.000Z a 2021-05-11T00:00:00.000Z\n",
            "1300 registros extraídos de 2017-10-20T00:00:00.000Z a 2021-05-11T00:00:00.000Z\n",
            "'Número de Registros: 1300'\n",
            "Salvos 1300 registros no arquivo /content/drive/My Drive/ia-bot-trader/dataset.csv\n"
          ],
          "name": "stdout"
        }
      ]
    },
    {
      "cell_type": "markdown",
      "metadata": {
        "id": "UYh_gMiCF4Z7"
      },
      "source": [
        "# **Análise Exploratória:**"
      ]
    },
    {
      "cell_type": "code",
      "metadata": {
        "colab": {
          "base_uri": "https://localhost:8080/",
          "height": 197
        },
        "id": "MS6KM5I3GBGY",
        "outputId": "744c8152-7b45-48a8-9116-4730cb48a131"
      },
      "source": [
        "dataset = pd.read_csv(outfile)\n",
        "dataset.head()"
      ],
      "execution_count": 29,
      "outputs": [
        {
          "output_type": "execute_result",
          "data": {
            "text/html": [
              "<div>\n",
              "<style scoped>\n",
              "    .dataframe tbody tr th:only-of-type {\n",
              "        vertical-align: middle;\n",
              "    }\n",
              "\n",
              "    .dataframe tbody tr th {\n",
              "        vertical-align: top;\n",
              "    }\n",
              "\n",
              "    .dataframe thead th {\n",
              "        text-align: right;\n",
              "    }\n",
              "</style>\n",
              "<table border=\"1\" class=\"dataframe\">\n",
              "  <thead>\n",
              "    <tr style=\"text-align: right;\">\n",
              "      <th></th>\n",
              "      <th>Date</th>\n",
              "      <th>Open</th>\n",
              "      <th>High</th>\n",
              "      <th>Low</th>\n",
              "      <th>Close</th>\n",
              "      <th>Adj Close</th>\n",
              "      <th>Volume</th>\n",
              "    </tr>\n",
              "  </thead>\n",
              "  <tbody>\n",
              "    <tr>\n",
              "      <th>0</th>\n",
              "      <td>2017-10-20</td>\n",
              "      <td>5700.8</td>\n",
              "      <td>6168.9</td>\n",
              "      <td>5602.0</td>\n",
              "      <td>6017.5</td>\n",
              "      <td>6017.5</td>\n",
              "      <td>912558192</td>\n",
              "    </tr>\n",
              "    <tr>\n",
              "      <th>1</th>\n",
              "      <td>2017-10-21</td>\n",
              "      <td>6017.5</td>\n",
              "      <td>6220.0</td>\n",
              "      <td>5875.0</td>\n",
              "      <td>6018.7</td>\n",
              "      <td>6018.7</td>\n",
              "      <td>854248299</td>\n",
              "    </tr>\n",
              "    <tr>\n",
              "      <th>2</th>\n",
              "      <td>2017-10-22</td>\n",
              "      <td>6018.7</td>\n",
              "      <td>6080.2</td>\n",
              "      <td>5720.0</td>\n",
              "      <td>5986.0</td>\n",
              "      <td>5986.0</td>\n",
              "      <td>847520369</td>\n",
              "    </tr>\n",
              "    <tr>\n",
              "      <th>3</th>\n",
              "      <td>2017-10-23</td>\n",
              "      <td>5986.0</td>\n",
              "      <td>6095.2</td>\n",
              "      <td>5638.7</td>\n",
              "      <td>5853.9</td>\n",
              "      <td>5853.9</td>\n",
              "      <td>1013064819</td>\n",
              "    </tr>\n",
              "    <tr>\n",
              "      <th>4</th>\n",
              "      <td>2017-10-24</td>\n",
              "      <td>5853.9</td>\n",
              "      <td>5853.9</td>\n",
              "      <td>5454.0</td>\n",
              "      <td>5517.4</td>\n",
              "      <td>5517.4</td>\n",
              "      <td>950744064</td>\n",
              "    </tr>\n",
              "  </tbody>\n",
              "</table>\n",
              "</div>"
            ],
            "text/plain": [
              "         Date    Open    High     Low   Close  Adj Close      Volume\n",
              "0  2017-10-20  5700.8  6168.9  5602.0  6017.5     6017.5   912558192\n",
              "1  2017-10-21  6017.5  6220.0  5875.0  6018.7     6018.7   854248299\n",
              "2  2017-10-22  6018.7  6080.2  5720.0  5986.0     5986.0   847520369\n",
              "3  2017-10-23  5986.0  6095.2  5638.7  5853.9     5853.9  1013064819\n",
              "4  2017-10-24  5853.9  5853.9  5454.0  5517.4     5517.4   950744064"
            ]
          },
          "metadata": {
            "tags": []
          },
          "execution_count": 29
        }
      ]
    },
    {
      "cell_type": "code",
      "metadata": {
        "colab": {
          "base_uri": "https://localhost:8080/",
          "height": 287
        },
        "id": "NqkeSWQTGSU7",
        "outputId": "38dbae7a-db28-4360-e1c9-6b0b552f1b03"
      },
      "source": [
        "dataset.describe()"
      ],
      "execution_count": 23,
      "outputs": [
        {
          "output_type": "execute_result",
          "data": {
            "text/html": [
              "<div>\n",
              "<style scoped>\n",
              "    .dataframe tbody tr th:only-of-type {\n",
              "        vertical-align: middle;\n",
              "    }\n",
              "\n",
              "    .dataframe tbody tr th {\n",
              "        vertical-align: top;\n",
              "    }\n",
              "\n",
              "    .dataframe thead th {\n",
              "        text-align: right;\n",
              "    }\n",
              "</style>\n",
              "<table border=\"1\" class=\"dataframe\">\n",
              "  <thead>\n",
              "    <tr style=\"text-align: right;\">\n",
              "      <th></th>\n",
              "      <th>Open</th>\n",
              "      <th>High</th>\n",
              "      <th>Low</th>\n",
              "      <th>Close</th>\n",
              "      <th>Adj Close</th>\n",
              "      <th>Volume</th>\n",
              "    </tr>\n",
              "  </thead>\n",
              "  <tbody>\n",
              "    <tr>\n",
              "      <th>count</th>\n",
              "      <td>1300.000000</td>\n",
              "      <td>1300.000000</td>\n",
              "      <td>1300.000000</td>\n",
              "      <td>1300.000000</td>\n",
              "      <td>1300.000000</td>\n",
              "      <td>1.300000e+03</td>\n",
              "    </tr>\n",
              "    <tr>\n",
              "      <th>mean</th>\n",
              "      <td>12800.989000</td>\n",
              "      <td>13213.377000</td>\n",
              "      <td>12353.268154</td>\n",
              "      <td>12839.603769</td>\n",
              "      <td>12839.603769</td>\n",
              "      <td>2.309433e+09</td>\n",
              "    </tr>\n",
              "    <tr>\n",
              "      <th>std</th>\n",
              "      <td>12933.095774</td>\n",
              "      <td>13372.277615</td>\n",
              "      <td>12447.087131</td>\n",
              "      <td>12986.709760</td>\n",
              "      <td>12986.709760</td>\n",
              "      <td>1.421668e+09</td>\n",
              "    </tr>\n",
              "    <tr>\n",
              "      <th>min</th>\n",
              "      <td>3183.000000</td>\n",
              "      <td>3226.000000</td>\n",
              "      <td>3121.000000</td>\n",
              "      <td>3183.000000</td>\n",
              "      <td>3183.000000</td>\n",
              "      <td>3.202566e+08</td>\n",
              "    </tr>\n",
              "    <tr>\n",
              "      <th>25%</th>\n",
              "      <td>6670.625000</td>\n",
              "      <td>6818.000000</td>\n",
              "      <td>6465.375000</td>\n",
              "      <td>6682.000000</td>\n",
              "      <td>6682.000000</td>\n",
              "      <td>1.305385e+09</td>\n",
              "    </tr>\n",
              "    <tr>\n",
              "      <th>50%</th>\n",
              "      <td>8797.000000</td>\n",
              "      <td>9020.000000</td>\n",
              "      <td>8539.000000</td>\n",
              "      <td>8803.000000</td>\n",
              "      <td>8803.000000</td>\n",
              "      <td>2.060543e+09</td>\n",
              "    </tr>\n",
              "    <tr>\n",
              "      <th>75%</th>\n",
              "      <td>11160.625000</td>\n",
              "      <td>11512.875000</td>\n",
              "      <td>10803.875000</td>\n",
              "      <td>11176.750000</td>\n",
              "      <td>11176.750000</td>\n",
              "      <td>2.906428e+09</td>\n",
              "    </tr>\n",
              "    <tr>\n",
              "      <th>max</th>\n",
              "      <td>63674.000000</td>\n",
              "      <td>65000.000000</td>\n",
              "      <td>62131.000000</td>\n",
              "      <td>63674.000000</td>\n",
              "      <td>63674.000000</td>\n",
              "      <td>1.362211e+10</td>\n",
              "    </tr>\n",
              "  </tbody>\n",
              "</table>\n",
              "</div>"
            ],
            "text/plain": [
              "               Open          High  ...     Adj Close        Volume\n",
              "count   1300.000000   1300.000000  ...   1300.000000  1.300000e+03\n",
              "mean   12800.989000  13213.377000  ...  12839.603769  2.309433e+09\n",
              "std    12933.095774  13372.277615  ...  12986.709760  1.421668e+09\n",
              "min     3183.000000   3226.000000  ...   3183.000000  3.202566e+08\n",
              "25%     6670.625000   6818.000000  ...   6682.000000  1.305385e+09\n",
              "50%     8797.000000   9020.000000  ...   8803.000000  2.060543e+09\n",
              "75%    11160.625000  11512.875000  ...  11176.750000  2.906428e+09\n",
              "max    63674.000000  65000.000000  ...  63674.000000  1.362211e+10\n",
              "\n",
              "[8 rows x 6 columns]"
            ]
          },
          "metadata": {
            "tags": []
          },
          "execution_count": 23
        }
      ]
    }
  ]
}